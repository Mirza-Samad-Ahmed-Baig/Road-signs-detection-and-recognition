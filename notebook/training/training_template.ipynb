{
  "cells": [
    {
      "cell_type": "markdown",
      "metadata": {
        "id": "WSuCWmvnScHD"
      },
      "source": [
        "# Object detection with YOLO: Training and Validation"
      ]
    },
    {
      "cell_type": "markdown",
      "metadata": {
        "id": "cKGhGNKkOO1v"
      },
      "source": [
        "Installiamo e/o aggiorniamo i pacchetti ultralytics (per usare YOLO) e wandb (per tracciare gli esperimenti ML)."
      ]
    },
    {
      "cell_type": "code",
      "execution_count": null,
      "metadata": {
        "id": "7-kWwatUNy6F"
      },
      "outputs": [],
      "source": [
        "!pip install ultralytics -q\n",
        "!pip install -U ultralytics wandb"
      ]
    },
    {
      "cell_type": "markdown",
      "metadata": {
        "id": "7UGZEfoOOn43"
      },
      "source": [
        "Configuriamo YOLO in modo da abilitare l'integrazione con Weights & Biases (wandb)."
      ]
    },
    {
      "cell_type": "code",
      "execution_count": null,
      "metadata": {
        "id": "Nv1qVftpObJx"
      },
      "outputs": [],
      "source": [
        "!yolo settings wandb=True"
      ]
    },
    {
      "cell_type": "markdown",
      "metadata": {
        "id": "PBZmfH1BOzNs"
      },
      "source": [
        "Importiamo le librerie necessarie:"
      ]
    },
    {
      "cell_type": "code",
      "execution_count": null,
      "metadata": {
        "id": "aKJtO7QKOyWG"
      },
      "outputs": [],
      "source": [
        "from ultralytics import YOLO\n",
        "import wandb"
      ]
    },
    {
      "cell_type": "markdown",
      "metadata": {
        "id": "HeVzQRK3Pcj7"
      },
      "source": [
        "Autentichiamo il nostro script Python con Weights & Biases (wandb) utilizzando l' API key personale."
      ]
    },
    {
      "cell_type": "code",
      "execution_count": null,
      "metadata": {
        "id": "BFcTgET8PWzf"
      },
      "outputs": [],
      "source": [
        "wandb.login(key=\"xxxxx\")"
      ]
    },
    {
      "cell_type": "markdown",
      "metadata": {
        "id": "-RunHv-WO7d6"
      },
      "source": [
        "Spacchettiamo il file .zip contenente il dataset:"
      ]
    },
    {
      "cell_type": "code",
      "execution_count": null,
      "metadata": {
        "id": "yhjt8kVrO-vB"
      },
      "outputs": [],
      "source": [
        "!unzip -q /content/drive/MyDrive/DATASET_FINALE_PROGETTO.zip"
      ]
    },
    {
      "cell_type": "markdown",
      "metadata": {
        "id": "byMuY17qP8Dv"
      },
      "source": [
        "Definiamo alcune variabili di configurazione necessarie per eseguire gli esperimenti con YOLO:"
      ]
    },
    {
      "cell_type": "code",
      "execution_count": null,
      "metadata": {
        "id": "JPbcprpLQQpH"
      },
      "outputs": [],
      "source": [
        "model_name = 'yolov12m.pt'      # seleziona la versione di YOLO che vuoi testare\n",
        "data_yaml = 'dataset_finale/data.yml'  # percorso al file di configurazione .yml del dataset\n",
        "project_dir = '/content/drive/MyDrive/yolo_results'  # directory in cui Yolo salverà i risultati\n",
        "exp_name = 'yolov12medium_50epochs_noaugmentation_416r' # sostituisci con il nome dell'esperimento"
      ]
    },
    {
      "cell_type": "markdown",
      "metadata": {
        "id": "R3Ks4LH2QkRw"
      },
      "source": [
        "A questo punto possiamo avviare la procedura di training e validazione del modello:"
      ]
    },
    {
      "cell_type": "code",
      "execution_count": null,
      "metadata": {
        "id": "45Y6102GPF6g"
      },
      "outputs": [],
      "source": [
        "model = YOLO(model_name)\n",
        "model.train(\n",
        "    cfg = 'train_settings_template.yaml'\n",
        ")"
      ]
    },
    {
      "cell_type": "markdown",
      "metadata": {
        "id": "uuabqtNaROAg"
      },
      "source": [
        "Utilizziamo il modello allenato per fare inferenza sui dati di test:"
      ]
    },
    {
      "cell_type": "code",
      "execution_count": null,
      "metadata": {
        "id": "irnVoJuKRXKD"
      },
      "outputs": [],
      "source": [
        "results_test = model.predict(source='/content/dataset_finale/test/images', # puoi passargli una cartella contenente le immagini oppure un singola immagine/video\n",
        "                             conf=0.25, # imposta una soglia di confidenza\n",
        "                             device=0, # usa la GPU\n",
        "                             save=True) #salva le predizioni"
      ]
    },
    {
      "cell_type": "markdown",
      "metadata": {
        "id": "OJtQ1XNwQ62C"
      },
      "source": [
        "Valutiamo quantitativamente il modello sul test set visualizzando le metriche:"
      ]
    },
    {
      "cell_type": "code",
      "execution_count": null,
      "metadata": {
        "id": "3BlOuBARQ9n9"
      },
      "outputs": [],
      "source": [
        "results = model.val(data='/content/dataset_finale/data.yml', split='test')"
      ]
    }
  ],
  "metadata": {
    "colab": {
      "provenance": []
    },
    "kernelspec": {
      "display_name": "Python 3",
      "name": "python3"
    },
    "language_info": {
      "name": "python"
    }
  },
  "nbformat": 4,
  "nbformat_minor": 0
}
