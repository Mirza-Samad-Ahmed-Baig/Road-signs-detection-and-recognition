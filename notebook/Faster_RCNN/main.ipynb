{
 "cells": [
  {
   "cell_type": "code",
   "execution_count": null,
   "id": "40a75488",
   "metadata": {},
   "outputs": [],
   "source": [
    "#Esempio di addestramento,evaluazione e inferenza su un dataset\n",
    "from utils import train,eval,predict\n",
    "\n",
    "experiment_name=\"experiment_name\"\n",
    "dataset_path=\"dataset_path\"\n",
    "model = train.dataset_train(experiment_name=experiment_name,dataset_path=dataset_path,epochs=5,imgsz=416,momentum=0.9,lr=0.005)\n",
    "eval.dataset_eval(experiment_name=experiment_name,model=model,dataset_path=dataset_path,imgsz=416)\n",
    "predict.dataset_predict(experiment_name=experiment_name,model=model,dataset_path=dataset_path)"
   ]
  },
  {
   "cell_type": "code",
   "execution_count": null,
   "id": "5e0acda3",
   "metadata": {},
   "outputs": [],
   "source": [
    "#Esempio di inferenza per singola immagine\n",
    "from demo.FRCNN_predict import predict_img\n",
    "\n",
    "predict_img(model_path=\"demo/models/fasterrcnn_voc_best.pth\", img_path=\"demo/IMG_demo.jpg\",imgsz=416,score_threshold=0.25)"
   ]
  }
 ],
 "metadata": {
  "kernelspec": {
   "display_name": "yolo",
   "language": "python",
   "name": "python3"
  },
  "language_info": {
   "codemirror_mode": {
    "name": "ipython",
    "version": 3
   },
   "file_extension": ".py",
   "mimetype": "text/x-python",
   "name": "python",
   "nbconvert_exporter": "python",
   "pygments_lexer": "ipython3",
   "version": "3.11.12"
  }
 },
 "nbformat": 4,
 "nbformat_minor": 5
}
