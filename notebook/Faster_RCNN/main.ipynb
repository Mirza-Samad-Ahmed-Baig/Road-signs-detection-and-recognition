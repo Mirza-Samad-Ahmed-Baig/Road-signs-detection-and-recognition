{
 "cells": [
  {
   "cell_type": "code",
   "execution_count": null,
   "id": "40a75488",
   "metadata": {},
   "outputs": [],
   "source": [
    "\n",
    "from utils import train,eval,predict\n",
    "\n",
    "experiment_name=\"experiment_name\"\n",
    "dataset_path=\"dataset\"\n",
    "model = train.train(experiment_name=experiment_name,dataset_path=dataset_path,batch_size=2,imgsz=416,momentum=0.9,lr=0.005)\n",
    "eval.eval(experiment_name=experiment_name,model=model,dataset_path=dataset_path,batch_size=2,imgsz=416)\n",
    "predict.predict(experiment_name=experiment_name,model=model,dataset_path=dataset_path)"
   ]
  }
 ],
 "metadata": {
  "kernelspec": {
   "display_name": "yolo",
   "language": "python",
   "name": "python3"
  },
  "language_info": {
   "codemirror_mode": {
    "name": "ipython",
    "version": 3
   },
   "file_extension": ".py",
   "mimetype": "text/x-python",
   "name": "python",
   "nbconvert_exporter": "python",
   "pygments_lexer": "ipython3",
   "version": "3.11.12"
  }
 },
 "nbformat": 4,
 "nbformat_minor": 5
}
